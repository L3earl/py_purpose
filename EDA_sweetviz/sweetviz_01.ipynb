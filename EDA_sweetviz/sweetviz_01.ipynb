{
 "cells": [
  {
   "cell_type": "code",
   "execution_count": 1,
   "metadata": {},
   "outputs": [
    {
     "name": "stderr",
     "output_type": "stream",
     "text": [
      "c:\\Users\\saink\\py_purpose\\EDA\\.venv\\Lib\\site-packages\\tqdm\\auto.py:21: TqdmWarning: IProgress not found. Please update jupyter and ipywidgets. See https://ipywidgets.readthedocs.io/en/stable/user_install.html\n",
      "  from .autonotebook import tqdm as notebook_tqdm\n"
     ]
    }
   ],
   "source": [
    "import os\n",
    "import pandas as pd\n",
    "import sweetviz as sv"
   ]
  },
  {
   "cell_type": "markdown",
   "metadata": {},
   "source": [
    "# 아이펠톤에서 조사한 데이터셋\n",
    "## 감정 데이터"
   ]
  },
  {
   "cell_type": "code",
   "execution_count": 2,
   "metadata": {},
   "outputs": [
    {
     "name": "stdout",
     "output_type": "stream",
     "text": [
      "          conv_id      emotion kor_emotion  \\\n",
      "0    hit:2_conv:4     trusting        신뢰하는   \n",
      "1   hit:8_conv:16     prepared         준비된   \n",
      "2  hit:13_conv:26       lonely         외로운   \n",
      "3  hit:16_conv:33  sentimental        감상적인   \n",
      "4  hit:17_conv:35        angry          화난   \n",
      "\n",
      "                                             context  \\\n",
      "0               I have always been loyal to my wife.   \n",
      "1  I had my entire house boarded up when the hurr...   \n",
      "2  A few years ago, my marriage broke up, and I f...   \n",
      "3     I get wistful remembering my high school days.   \n",
      "4  I get irritated with a coworker that gets on m...   \n",
      "\n",
      "                                         kor_context  \\\n",
      "0                                    나는 항상 아내에게 충성했다   \n",
      "1                       허리케인이 왔을 때 나는 집 전체를 판자로 막았다.   \n",
      "2  몇 년 전 결혼이 깨졌고, 나는 인생에서 처음으로 혼자 사는 것을 발견했다. 결국 ...   \n",
      "3                                 학창시절이 생각나면 그리워집니다.   \n",
      "4  맨날 신경쓰이는 직장동료가 와서 담배냄새 맡으면서 귀찮게 하고 잡담 하려고 하면 짜...   \n",
      "\n",
      "                                factor  \n",
      "0                                 아내에게  \n",
      "1               허리케인이###집 전체를 판자로 막았다.  \n",
      "2                   인생에서 처음으로 혼자 사는 것을  \n",
      "3                                학창시절이  \n",
      "4  직장동료가 와서 담배냄새 맡으면서 귀찮게 하고 잡담 하려고 하면  \n"
     ]
    }
   ],
   "source": [
    "moesm1 = pd.read_csv(\"raw_data/41598_2023_45386_MOESM1_ESM.csv\")\n",
    "moesm2 = pd.read_csv(\"raw_data/41598_2023_45386_MOESM2_ESM.csv\")\n",
    "moesm3 = pd.read_csv(\"raw_data/41598_2023_45386_MOESM3_ESM.csv\")\n",
    "\n",
    "# 합침\n",
    "moesm = pd.concat([moesm1, moesm2, moesm3], axis=0)\n",
    "\n",
    "print(moesm.head())"
   ]
  },
  {
   "cell_type": "code",
   "execution_count": 3,
   "metadata": {},
   "outputs": [
    {
     "name": "stderr",
     "output_type": "stream",
     "text": [
      "Feature: kor_emotion                         |████▎     | [ 43%]   00:00 -> (00:00 left)c:\\Users\\saink\\py_purpose\\EDA\\.venv\\Lib\\site-packages\\sweetviz\\graph.py:33: UserWarning: Glyph 49892 (\\N{HANGUL SYLLABLE SIL}) missing from font(s) Roboto.\n",
      "  figure.savefig(as_raw_bytes, format='png', transparent=True)\n",
      "c:\\Users\\saink\\py_purpose\\EDA\\.venv\\Lib\\site-packages\\sweetviz\\graph.py:33: UserWarning: Glyph 47581 (\\N{HANGUL SYLLABLE MANG}) missing from font(s) Roboto.\n",
      "  figure.savefig(as_raw_bytes, format='png', transparent=True)\n",
      "c:\\Users\\saink\\py_purpose\\EDA\\.venv\\Lib\\site-packages\\sweetviz\\graph.py:33: UserWarning: Glyph 54620 (\\N{HANGUL SYLLABLE HAN}) missing from font(s) Roboto.\n",
      "  figure.savefig(as_raw_bytes, format='png', transparent=True)\n",
      "c:\\Users\\saink\\py_purpose\\EDA\\.venv\\Lib\\site-packages\\sweetviz\\graph.py:33: UserWarning: Glyph 45817 (\\N{HANGUL SYLLABLE DANG}) missing from font(s) Roboto.\n",
      "  figure.savefig(as_raw_bytes, format='png', transparent=True)\n",
      "c:\\Users\\saink\\py_purpose\\EDA\\.venv\\Lib\\site-packages\\sweetviz\\graph.py:33: UserWarning: Glyph 54889 (\\N{HANGUL SYLLABLE HWANG}) missing from font(s) Roboto.\n",
      "  figure.savefig(as_raw_bytes, format='png', transparent=True)\n",
      "c:\\Users\\saink\\py_purpose\\EDA\\.venv\\Lib\\site-packages\\sweetviz\\graph.py:33: UserWarning: Glyph 49828 (\\N{HANGUL SYLLABLE SEU}) missing from font(s) Roboto.\n",
      "  figure.savefig(as_raw_bytes, format='png', transparent=True)\n",
      "c:\\Users\\saink\\py_purpose\\EDA\\.venv\\Lib\\site-packages\\sweetviz\\graph.py:33: UserWarning: Glyph 47084 (\\N{HANGUL SYLLABLE REO}) missing from font(s) Roboto.\n",
      "  figure.savefig(as_raw_bytes, format='png', transparent=True)\n",
      "c:\\Users\\saink\\py_purpose\\EDA\\.venv\\Lib\\site-packages\\sweetviz\\graph.py:33: UserWarning: Glyph 50868 (\\N{HANGUL SYLLABLE UN}) missing from font(s) Roboto.\n",
      "  figure.savefig(as_raw_bytes, format='png', transparent=True)\n",
      "c:\\Users\\saink\\py_purpose\\EDA\\.venv\\Lib\\site-packages\\sweetviz\\graph.py:33: UserWarning: Glyph 54868 (\\N{HANGUL SYLLABLE HWA}) missing from font(s) Roboto.\n",
      "  figure.savefig(as_raw_bytes, format='png', transparent=True)\n",
      "c:\\Users\\saink\\py_purpose\\EDA\\.venv\\Lib\\site-packages\\sweetviz\\graph.py:33: UserWarning: Glyph 45212 (\\N{HANGUL SYLLABLE NAN}) missing from font(s) Roboto.\n",
      "  figure.savefig(as_raw_bytes, format='png', transparent=True)\n",
      "c:\\Users\\saink\\py_purpose\\EDA\\.venv\\Lib\\site-packages\\sweetviz\\graph.py:33: UserWarning: Glyph 46160 (\\N{HANGUL SYLLABLE DU}) missing from font(s) Roboto.\n",
      "  figure.savefig(as_raw_bytes, format='png', transparent=True)\n",
      "c:\\Users\\saink\\py_purpose\\EDA\\.venv\\Lib\\site-packages\\sweetviz\\graph.py:33: UserWarning: Glyph 47140 (\\N{HANGUL SYLLABLE RYEO}) missing from font(s) Roboto.\n",
      "  figure.savefig(as_raw_bytes, format='png', transparent=True)\n",
      "c:\\Users\\saink\\py_purpose\\EDA\\.venv\\Lib\\site-packages\\sweetviz\\graph.py:33: UserWarning: Glyph 50892 (\\N{HANGUL SYLLABLE WEO}) missing from font(s) Roboto.\n",
      "  figure.savefig(as_raw_bytes, format='png', transparent=True)\n",
      "c:\\Users\\saink\\py_purpose\\EDA\\.venv\\Lib\\site-packages\\sweetviz\\graph.py:33: UserWarning: Glyph 54616 (\\N{HANGUL SYLLABLE HA}) missing from font(s) Roboto.\n",
      "  figure.savefig(as_raw_bytes, format='png', transparent=True)\n",
      "c:\\Users\\saink\\py_purpose\\EDA\\.venv\\Lib\\site-packages\\sweetviz\\graph.py:33: UserWarning: Glyph 45716 (\\N{HANGUL SYLLABLE NEUN}) missing from font(s) Roboto.\n",
      "  figure.savefig(as_raw_bytes, format='png', transparent=True)\n",
      "c:\\Users\\saink\\py_purpose\\EDA\\.venv\\Lib\\site-packages\\sweetviz\\graph.py:33: UserWarning: Glyph 50669 (\\N{HANGUL SYLLABLE YEOG}) missing from font(s) Roboto.\n",
      "  figure.savefig(as_raw_bytes, format='png', transparent=True)\n",
      "c:\\Users\\saink\\py_purpose\\EDA\\.venv\\Lib\\site-packages\\sweetviz\\graph.py:33: UserWarning: Glyph 44200 (\\N{HANGUL SYLLABLE GYEO}) missing from font(s) Roboto.\n",
      "  figure.savefig(as_raw_bytes, format='png', transparent=True)\n",
      "c:\\Users\\saink\\py_purpose\\EDA\\.venv\\Lib\\site-packages\\sweetviz\\graph.py:33: UserWarning: Glyph 50868 (\\N{HANGUL SYLLABLE UN}) missing from font(s) Roboto.\n",
      "  figure.savefig(as_raw_bytes, format='png', transparent=True)\n",
      "c:\\Users\\saink\\py_purpose\\EDA\\.venv\\Lib\\site-packages\\sweetviz\\graph.py:33: UserWarning: Glyph 55148 (\\N{HANGUL SYLLABLE HYI}) missing from font(s) Roboto.\n",
      "  figure.savefig(as_raw_bytes, format='png', transparent=True)\n",
      "c:\\Users\\saink\\py_purpose\\EDA\\.venv\\Lib\\site-packages\\sweetviz\\graph.py:33: UserWarning: Glyph 47581 (\\N{HANGUL SYLLABLE MANG}) missing from font(s) Roboto.\n",
      "  figure.savefig(as_raw_bytes, format='png', transparent=True)\n",
      "c:\\Users\\saink\\py_purpose\\EDA\\.venv\\Lib\\site-packages\\sweetviz\\graph.py:33: UserWarning: Glyph 50640 (\\N{HANGUL SYLLABLE E}) missing from font(s) Roboto.\n",
      "  figure.savefig(as_raw_bytes, format='png', transparent=True)\n",
      "c:\\Users\\saink\\py_purpose\\EDA\\.venv\\Lib\\site-packages\\sweetviz\\graph.py:33: UserWarning: Glyph 52268 (\\N{HANGUL SYLLABLE CAN}) missing from font(s) Roboto.\n",
      "  figure.savefig(as_raw_bytes, format='png', transparent=True)\n",
      "c:\\Users\\saink\\py_purpose\\EDA\\.venv\\Lib\\site-packages\\sweetviz\\graph.py:33: UserWarning: Glyph 51600 (\\N{HANGUL SYLLABLE JEUL}) missing from font(s) Roboto.\n",
      "  figure.savefig(as_raw_bytes, format='png', transparent=True)\n",
      "c:\\Users\\saink\\py_purpose\\EDA\\.venv\\Lib\\site-packages\\sweetviz\\graph.py:33: UserWarning: Glyph 44144 (\\N{HANGUL SYLLABLE GEO}) missing from font(s) Roboto.\n",
      "  figure.savefig(as_raw_bytes, format='png', transparent=True)\n",
      "c:\\Users\\saink\\py_purpose\\EDA\\.venv\\Lib\\site-packages\\sweetviz\\graph.py:33: UserWarning: Glyph 44048 (\\N{HANGUL SYLLABLE GAM}) missing from font(s) Roboto.\n",
      "  figure.savefig(as_raw_bytes, format='png', transparent=True)\n",
      "c:\\Users\\saink\\py_purpose\\EDA\\.venv\\Lib\\site-packages\\sweetviz\\graph.py:33: UserWarning: Glyph 47749 (\\N{HANGUL SYLLABLE MYEONG}) missing from font(s) Roboto.\n",
      "  figure.savefig(as_raw_bytes, format='png', transparent=True)\n",
      "c:\\Users\\saink\\py_purpose\\EDA\\.venv\\Lib\\site-packages\\sweetviz\\graph.py:33: UserWarning: Glyph 48155 (\\N{HANGUL SYLLABLE BAD}) missing from font(s) Roboto.\n",
      "  figure.savefig(as_raw_bytes, format='png', transparent=True)\n",
      "c:\\Users\\saink\\py_purpose\\EDA\\.venv\\Lib\\site-packages\\sweetviz\\graph.py:33: UserWarning: Glyph 51008 (\\N{HANGUL SYLLABLE EUN}) missing from font(s) Roboto.\n",
      "  figure.savefig(as_raw_bytes, format='png', transparent=True)\n",
      "c:\\Users\\saink\\py_purpose\\EDA\\.venv\\Lib\\site-packages\\sweetviz\\graph.py:33: UserWarning: Glyph 44256 (\\N{HANGUL SYLLABLE GO}) missing from font(s) Roboto.\n",
      "  figure.savefig(as_raw_bytes, format='png', transparent=True)\n",
      "c:\\Users\\saink\\py_purpose\\EDA\\.venv\\Lib\\site-packages\\sweetviz\\graph.py:33: UserWarning: Glyph 47560 (\\N{HANGUL SYLLABLE MA}) missing from font(s) Roboto.\n",
      "  figure.savefig(as_raw_bytes, format='png', transparent=True)\n",
      "c:\\Users\\saink\\py_purpose\\EDA\\.venv\\Lib\\site-packages\\sweetviz\\graph.py:33: UserWarning: Glyph 50892 (\\N{HANGUL SYLLABLE WEO}) missing from font(s) Roboto.\n",
      "  figure.savefig(as_raw_bytes, format='png', transparent=True)\n",
      "c:\\Users\\saink\\py_purpose\\EDA\\.venv\\Lib\\site-packages\\sweetviz\\graph.py:33: UserWarning: Glyph 54616 (\\N{HANGUL SYLLABLE HA}) missing from font(s) Roboto.\n",
      "  figure.savefig(as_raw_bytes, format='png', transparent=True)\n",
      "c:\\Users\\saink\\py_purpose\\EDA\\.venv\\Lib\\site-packages\\sweetviz\\graph.py:33: UserWarning: Glyph 45716 (\\N{HANGUL SYLLABLE NEUN}) missing from font(s) Roboto.\n",
      "  figure.savefig(as_raw_bytes, format='png', transparent=True)\n",
      "c:\\Users\\saink\\py_purpose\\EDA\\.venv\\Lib\\site-packages\\sweetviz\\graph.py:33: UserWarning: Glyph 44592 (\\N{HANGUL SYLLABLE GI}) missing from font(s) Roboto.\n",
      "  figure.savefig(as_raw_bytes, format='png', transparent=True)\n",
      "c:\\Users\\saink\\py_purpose\\EDA\\.venv\\Lib\\site-packages\\sweetviz\\graph.py:33: UserWarning: Glyph 45824 (\\N{HANGUL SYLLABLE DAE}) missing from font(s) Roboto.\n",
      "  figure.savefig(as_raw_bytes, format='png', transparent=True)\n",
      "c:\\Users\\saink\\py_purpose\\EDA\\.venv\\Lib\\site-packages\\sweetviz\\graph.py:33: UserWarning: Glyph 50808 (\\N{HANGUL SYLLABLE OE}) missing from font(s) Roboto.\n",
      "  figure.savefig(as_raw_bytes, format='png', transparent=True)\n",
      "c:\\Users\\saink\\py_purpose\\EDA\\.venv\\Lib\\site-packages\\sweetviz\\graph.py:33: UserWarning: Glyph 47196 (\\N{HANGUL SYLLABLE RO}) missing from font(s) Roboto.\n",
      "  figure.savefig(as_raw_bytes, format='png', transparent=True)\n",
      "c:\\Users\\saink\\py_purpose\\EDA\\.venv\\Lib\\site-packages\\sweetviz\\graph.py:33: UserWarning: Glyph 49836 (\\N{HANGUL SYLLABLE SEUL}) missing from font(s) Roboto.\n",
      "  figure.savefig(as_raw_bytes, format='png', transparent=True)\n",
      "c:\\Users\\saink\\py_purpose\\EDA\\.venv\\Lib\\site-packages\\sweetviz\\graph.py:33: UserWarning: Glyph 54536 (\\N{HANGUL SYLLABLE PEUN}) missing from font(s) Roboto.\n",
      "  figure.savefig(as_raw_bytes, format='png', transparent=True)\n",
      "c:\\Users\\saink\\py_purpose\\EDA\\.venv\\Lib\\site-packages\\sweetviz\\graph.py:33: UserWarning: Glyph 51088 (\\N{HANGUL SYLLABLE JA}) missing from font(s) Roboto.\n",
      "  figure.savefig(as_raw_bytes, format='png', transparent=True)\n",
      "c:\\Users\\saink\\py_purpose\\EDA\\.venv\\Lib\\site-packages\\sweetviz\\graph.py:33: UserWarning: Glyph 46993 (\\N{HANGUL SYLLABLE RANG}) missing from font(s) Roboto.\n",
      "  figure.savefig(as_raw_bytes, format='png', transparent=True)\n",
      "c:\\Users\\saink\\py_purpose\\EDA\\.venv\\Lib\\site-packages\\sweetviz\\graph.py:33: UserWarning: Glyph 49828 (\\N{HANGUL SYLLABLE SEU}) missing from font(s) Roboto.\n",
      "  figure.savefig(as_raw_bytes, format='png', transparent=True)\n",
      "c:\\Users\\saink\\py_purpose\\EDA\\.venv\\Lib\\site-packages\\sweetviz\\graph.py:33: UserWarning: Glyph 47084 (\\N{HANGUL SYLLABLE REO}) missing from font(s) Roboto.\n",
      "  figure.savefig(as_raw_bytes, format='png', transparent=True)\n",
      "c:\\Users\\saink\\py_purpose\\EDA\\.venv\\Lib\\site-packages\\sweetviz\\graph.py:33: UserWarning: Glyph 55141 (\\N{HANGUL SYLLABLE HEUNG}) missing from font(s) Roboto.\n",
      "  figure.savefig(as_raw_bytes, format='png', transparent=True)\n",
      "c:\\Users\\saink\\py_purpose\\EDA\\.venv\\Lib\\site-packages\\sweetviz\\graph.py:33: UserWarning: Glyph 48516 (\\N{HANGUL SYLLABLE BUN}) missing from font(s) Roboto.\n",
      "  figure.savefig(as_raw_bytes, format='png', transparent=True)\n",
      "c:\\Users\\saink\\py_purpose\\EDA\\.venv\\Lib\\site-packages\\sweetviz\\graph.py:33: UserWarning: Glyph 54620 (\\N{HANGUL SYLLABLE HAN}) missing from font(s) Roboto.\n",
      "  figure.savefig(as_raw_bytes, format='png', transparent=True)\n",
      "c:\\Users\\saink\\py_purpose\\EDA\\.venv\\Lib\\site-packages\\sweetviz\\graph.py:33: UserWarning: Glyph 49888 (\\N{HANGUL SYLLABLE SIN}) missing from font(s) Roboto.\n",
      "  figure.savefig(as_raw_bytes, format='png', transparent=True)\n",
      "c:\\Users\\saink\\py_purpose\\EDA\\.venv\\Lib\\site-packages\\sweetviz\\graph.py:33: UserWarning: Glyph 47280 (\\N{HANGUL SYLLABLE ROE}) missing from font(s) Roboto.\n",
      "  figure.savefig(as_raw_bytes, format='png', transparent=True)\n",
      "c:\\Users\\saink\\py_purpose\\EDA\\.venv\\Lib\\site-packages\\sweetviz\\graph.py:33: UserWarning: Glyph 45440 (\\N{HANGUL SYLLABLE NOL}) missing from font(s) Roboto.\n",
      "  figure.savefig(as_raw_bytes, format='png', transparent=True)\n",
      "c:\\Users\\saink\\py_purpose\\EDA\\.venv\\Lib\\site-packages\\sweetviz\\graph.py:33: UserWarning: Glyph 46976 (\\N{HANGUL SYLLABLE RAN}) missing from font(s) Roboto.\n",
      "  figure.savefig(as_raw_bytes, format='png', transparent=True)\n",
      "c:\\Users\\saink\\py_purpose\\EDA\\.venv\\Lib\\site-packages\\sweetviz\\graph.py:33: UserWarning: Glyph 49345 (\\N{HANGUL SYLLABLE SANG}) missing from font(s) Roboto.\n",
      "  figure.savefig(as_raw_bytes, format='png', transparent=True)\n",
      "c:\\Users\\saink\\py_purpose\\EDA\\.venv\\Lib\\site-packages\\sweetviz\\graph.py:33: UserWarning: Glyph 51201 (\\N{HANGUL SYLLABLE JEOG}) missing from font(s) Roboto.\n",
      "  figure.savefig(as_raw_bytes, format='png', transparent=True)\n",
      "c:\\Users\\saink\\py_purpose\\EDA\\.venv\\Lib\\site-packages\\sweetviz\\graph.py:33: UserWarning: Glyph 51064 (\\N{HANGUL SYLLABLE IN}) missing from font(s) Roboto.\n",
      "  figure.savefig(as_raw_bytes, format='png', transparent=True)\n",
      "c:\\Users\\saink\\py_purpose\\EDA\\.venv\\Lib\\site-packages\\sweetviz\\graph.py:33: UserWarning: Glyph 49892 (\\N{HANGUL SYLLABLE SIL}) missing from font(s) Roboto.\n",
      "  figure.savefig(as_raw_bytes, format='png', transparent=True)\n",
      "c:\\Users\\saink\\py_purpose\\EDA\\.venv\\Lib\\site-packages\\sweetviz\\graph.py:33: UserWarning: Glyph 45817 (\\N{HANGUL SYLLABLE DANG}) missing from font(s) Roboto.\n",
      "  figure.savefig(as_raw_bytes, format='png', transparent=True)\n",
      "c:\\Users\\saink\\py_purpose\\EDA\\.venv\\Lib\\site-packages\\sweetviz\\graph.py:33: UserWarning: Glyph 54889 (\\N{HANGUL SYLLABLE HWANG}) missing from font(s) Roboto.\n",
      "  figure.savefig(as_raw_bytes, format='png', transparent=True)\n",
      "c:\\Users\\saink\\py_purpose\\EDA\\.venv\\Lib\\site-packages\\sweetviz\\graph.py:33: UserWarning: Glyph 54868 (\\N{HANGUL SYLLABLE HWA}) missing from font(s) Roboto.\n",
      "  figure.savefig(as_raw_bytes, format='png', transparent=True)\n",
      "c:\\Users\\saink\\py_purpose\\EDA\\.venv\\Lib\\site-packages\\sweetviz\\graph.py:33: UserWarning: Glyph 45212 (\\N{HANGUL SYLLABLE NAN}) missing from font(s) Roboto.\n",
      "  figure.savefig(as_raw_bytes, format='png', transparent=True)\n",
      "c:\\Users\\saink\\py_purpose\\EDA\\.venv\\Lib\\site-packages\\sweetviz\\graph.py:33: UserWarning: Glyph 46160 (\\N{HANGUL SYLLABLE DU}) missing from font(s) Roboto.\n",
      "  figure.savefig(as_raw_bytes, format='png', transparent=True)\n",
      "c:\\Users\\saink\\py_purpose\\EDA\\.venv\\Lib\\site-packages\\sweetviz\\graph.py:33: UserWarning: Glyph 47140 (\\N{HANGUL SYLLABLE RYEO}) missing from font(s) Roboto.\n",
      "  figure.savefig(as_raw_bytes, format='png', transparent=True)\n",
      "Done! Use 'show' commands to display/save.   |██████████| [100%]   00:00 -> (00:00 left)\n"
     ]
    },
    {
     "name": "stdout",
     "output_type": "stream",
     "text": [
      "Report sweetviz_report/moesm.html was generated! NOTEBOOK/COLAB USERS: the web browser MAY not pop up, regardless, the report IS saved in your notebook/colab files.\n"
     ]
    }
   ],
   "source": [
    "# 데이터 프레임을 분석하여 sweetviz 폴더에 저장\n",
    "report = sv.analyze(moesm)\n",
    "report.show_html(\"sweetviz_report/moesm.html\")"
   ]
  },
  {
   "cell_type": "markdown",
   "metadata": {},
   "source": [
    "## 인지왜곡 데이터"
   ]
  },
  {
   "cell_type": "code",
   "execution_count": 4,
   "metadata": {},
   "outputs": [
    {
     "name": "stdout",
     "output_type": "stream",
     "text": [
      "   Id_Number                                   Patient Question  \\\n",
      "0       4500  Hello, I have a beautiful,smart,outgoing and a...   \n",
      "1       4501  Since I was about 16 years old I’ve had these ...   \n",
      "2       4502   So I’ve been dating on and off this guy for a...   \n",
      "3       4503  My parents got divorced in 2004. My mother has...   \n",
      "4       4504  I don’t really know how to explain the situati...   \n",
      "\n",
      "                                      Distorted part Dominant Distortion  \\\n",
      "0  The voice are always fimilar (someone she know...     Personalization   \n",
      "1  I feel trapped inside my disgusting self and l...            Labeling   \n",
      "2                                                NaN       No Distortion   \n",
      "3                                                NaN       No Distortion   \n",
      "4  I refused to go because I didn’t know if it wa...     Fortune-telling   \n",
      "\n",
      "  Secondary Distortion (Optional)  \n",
      "0                             NaN  \n",
      "1             Emotional Reasoning  \n",
      "2                             NaN  \n",
      "3                             NaN  \n",
      "4             Emotional Reasoning  \n"
     ]
    }
   ],
   "source": [
    "annotated = pd.read_csv(\"raw_data/Annotated_data.csv\")\n",
    "print(annotated.head())"
   ]
  },
  {
   "cell_type": "code",
   "execution_count": 5,
   "metadata": {},
   "outputs": [
    {
     "name": "stderr",
     "output_type": "stream",
     "text": [
      "Feature: Id_Number                           |█▋        | [ 17%]   00:00 -> (00:00 left)"
     ]
    },
    {
     "ename": "AttributeError",
     "evalue": "module 'numpy' has no attribute 'VisibleDeprecationWarning'",
     "output_type": "error",
     "traceback": [
      "\u001b[1;31m---------------------------------------------------------------------------\u001b[0m",
      "\u001b[1;31mAttributeError\u001b[0m                            Traceback (most recent call last)",
      "Cell \u001b[1;32mIn[5], line 1\u001b[0m\n\u001b[1;32m----> 1\u001b[0m report \u001b[38;5;241m=\u001b[39m \u001b[43msv\u001b[49m\u001b[38;5;241;43m.\u001b[39;49m\u001b[43manalyze\u001b[49m\u001b[43m(\u001b[49m\u001b[43mannotated\u001b[49m\u001b[43m)\u001b[49m\n\u001b[0;32m      2\u001b[0m report\u001b[38;5;241m.\u001b[39mshow_html(\u001b[38;5;124m\"\u001b[39m\u001b[38;5;124msweetviz_report/annotated.html\u001b[39m\u001b[38;5;124m\"\u001b[39m)\n",
      "File \u001b[1;32mc:\\Users\\saink\\py_purpose\\EDA\\.venv\\Lib\\site-packages\\sweetviz\\sv_public.py:12\u001b[0m, in \u001b[0;36manalyze\u001b[1;34m(source, target_feat, feat_cfg, pairwise_analysis)\u001b[0m\n\u001b[0;32m      8\u001b[0m \u001b[38;5;28;01mdef\u001b[39;00m \u001b[38;5;21manalyze\u001b[39m(source: Union[pd\u001b[38;5;241m.\u001b[39mDataFrame, Tuple[pd\u001b[38;5;241m.\u001b[39mDataFrame, \u001b[38;5;28mstr\u001b[39m]],\n\u001b[0;32m      9\u001b[0m             target_feat: \u001b[38;5;28mstr\u001b[39m \u001b[38;5;241m=\u001b[39m \u001b[38;5;28;01mNone\u001b[39;00m,\n\u001b[0;32m     10\u001b[0m             feat_cfg: FeatureConfig \u001b[38;5;241m=\u001b[39m \u001b[38;5;28;01mNone\u001b[39;00m,\n\u001b[0;32m     11\u001b[0m             pairwise_analysis: \u001b[38;5;28mstr\u001b[39m \u001b[38;5;241m=\u001b[39m \u001b[38;5;124m'\u001b[39m\u001b[38;5;124mauto\u001b[39m\u001b[38;5;124m'\u001b[39m):\n\u001b[1;32m---> 12\u001b[0m     report \u001b[38;5;241m=\u001b[39m \u001b[43msweetviz\u001b[49m\u001b[38;5;241;43m.\u001b[39;49m\u001b[43mDataframeReport\u001b[49m\u001b[43m(\u001b[49m\u001b[43msource\u001b[49m\u001b[43m,\u001b[49m\u001b[43m \u001b[49m\u001b[43mtarget_feat\u001b[49m\u001b[43m,\u001b[49m\u001b[43m \u001b[49m\u001b[38;5;28;43;01mNone\u001b[39;49;00m\u001b[43m,\u001b[49m\n\u001b[0;32m     13\u001b[0m \u001b[43m                                      \u001b[49m\u001b[43mpairwise_analysis\u001b[49m\u001b[43m,\u001b[49m\u001b[43m \u001b[49m\u001b[43mfeat_cfg\u001b[49m\u001b[43m)\u001b[49m\n\u001b[0;32m     14\u001b[0m     \u001b[38;5;28;01mreturn\u001b[39;00m report\n",
      "File \u001b[1;32mc:\\Users\\saink\\py_purpose\\EDA\\.venv\\Lib\\site-packages\\sweetviz\\dataframe_report.py:277\u001b[0m, in \u001b[0;36mDataframeReport.__init__\u001b[1;34m(self, source, target_feature_name, compare, pairwise_analysis, fc, verbosity)\u001b[0m\n\u001b[0;32m    274\u001b[0m \u001b[38;5;28;01mfor\u001b[39;00m f \u001b[38;5;129;01min\u001b[39;00m features_to_process:\n\u001b[0;32m    275\u001b[0m     \u001b[38;5;66;03m# start = time.perf_counter()\u001b[39;00m\n\u001b[0;32m    276\u001b[0m     \u001b[38;5;28mself\u001b[39m\u001b[38;5;241m.\u001b[39mprogress_bar\u001b[38;5;241m.\u001b[39mset_description_str(\u001b[38;5;124mf\u001b[39m\u001b[38;5;124m\"\u001b[39m\u001b[38;5;124mFeature: \u001b[39m\u001b[38;5;132;01m{\u001b[39;00mf\u001b[38;5;241m.\u001b[39msource\u001b[38;5;241m.\u001b[39mname\u001b[38;5;132;01m}\u001b[39;00m\u001b[38;5;124m\"\u001b[39m)\n\u001b[1;32m--> 277\u001b[0m     \u001b[38;5;28mself\u001b[39m\u001b[38;5;241m.\u001b[39m_features[f\u001b[38;5;241m.\u001b[39msource\u001b[38;5;241m.\u001b[39mname] \u001b[38;5;241m=\u001b[39m \u001b[43msa\u001b[49m\u001b[38;5;241;43m.\u001b[39;49m\u001b[43manalyze_feature_to_dictionary\u001b[49m\u001b[43m(\u001b[49m\u001b[43mf\u001b[49m\u001b[43m)\u001b[49m\n\u001b[0;32m    278\u001b[0m     \u001b[38;5;28mself\u001b[39m\u001b[38;5;241m.\u001b[39mprogress_bar\u001b[38;5;241m.\u001b[39mupdate(\u001b[38;5;241m1\u001b[39m)\n\u001b[0;32m    279\u001b[0m     \u001b[38;5;66;03m# print(f\"DONE FEATURE------> {f.source.name}\"\u001b[39;00m\n\u001b[0;32m    280\u001b[0m     \u001b[38;5;66;03m#       f\" {(time.perf_counter() - start):.2f}   {self._features[f.source.name]['type']}\")\u001b[39;00m\n\u001b[0;32m    281\u001b[0m \u001b[38;5;66;03m# self.progress_bar.set_description_str('[FEATURES DONE]')\u001b[39;00m\n\u001b[0;32m    282\u001b[0m \u001b[38;5;66;03m# self.progress_bar.close()\u001b[39;00m\n\u001b[0;32m    283\u001b[0m \n\u001b[0;32m    284\u001b[0m \u001b[38;5;66;03m# Wrap up summary\u001b[39;00m\n",
      "File \u001b[1;32mc:\\Users\\saink\\py_purpose\\EDA\\.venv\\Lib\\site-packages\\sweetviz\\series_analyzer.py:142\u001b[0m, in \u001b[0;36manalyze_feature_to_dictionary\u001b[1;34m(to_process)\u001b[0m\n\u001b[0;32m    140\u001b[0m \u001b[38;5;66;03m# Perform full analysis on source/compare/target\u001b[39;00m\n\u001b[0;32m    141\u001b[0m \u001b[38;5;28;01mif\u001b[39;00m returned_feature_dict[\u001b[38;5;124m\"\u001b[39m\u001b[38;5;124mtype\u001b[39m\u001b[38;5;124m\"\u001b[39m] \u001b[38;5;241m==\u001b[39m FeatureType\u001b[38;5;241m.\u001b[39mTYPE_NUM:\n\u001b[1;32m--> 142\u001b[0m     \u001b[43msweetviz\u001b[49m\u001b[38;5;241;43m.\u001b[39;49m\u001b[43mseries_analyzer_numeric\u001b[49m\u001b[38;5;241;43m.\u001b[39;49m\u001b[43manalyze\u001b[49m\u001b[43m(\u001b[49m\u001b[43mto_process\u001b[49m\u001b[43m,\u001b[49m\u001b[43m \u001b[49m\u001b[43mreturned_feature_dict\u001b[49m\u001b[43m)\u001b[49m\n\u001b[0;32m    143\u001b[0m \u001b[38;5;28;01melif\u001b[39;00m returned_feature_dict[\u001b[38;5;124m\"\u001b[39m\u001b[38;5;124mtype\u001b[39m\u001b[38;5;124m\"\u001b[39m] \u001b[38;5;241m==\u001b[39m FeatureType\u001b[38;5;241m.\u001b[39mTYPE_CAT:\n\u001b[0;32m    144\u001b[0m     sweetviz\u001b[38;5;241m.\u001b[39mseries_analyzer_cat\u001b[38;5;241m.\u001b[39manalyze(to_process, returned_feature_dict)\n",
      "File \u001b[1;32mc:\\Users\\saink\\py_purpose\\EDA\\.venv\\Lib\\site-packages\\sweetviz\\series_analyzer_numeric.py:102\u001b[0m, in \u001b[0;36manalyze\u001b[1;34m(to_process, feature_dict)\u001b[0m\n\u001b[0;32m     98\u001b[0m     do_stats_numeric(to_process\u001b[38;5;241m.\u001b[39mcompare, compare_dict)\n\u001b[0;32m    100\u001b[0m do_detail_numeric(to_process\u001b[38;5;241m.\u001b[39msource, to_process\u001b[38;5;241m.\u001b[39msource_counts, to_process\u001b[38;5;241m.\u001b[39mcompare_counts, feature_dict)\n\u001b[1;32m--> 102\u001b[0m feature_dict[\u001b[38;5;124m\"\u001b[39m\u001b[38;5;124mminigraph\u001b[39m\u001b[38;5;124m\"\u001b[39m] \u001b[38;5;241m=\u001b[39m \u001b[43mGraphNumeric\u001b[49m\u001b[43m(\u001b[49m\u001b[38;5;124;43m\"\u001b[39;49m\u001b[38;5;124;43mmini\u001b[39;49m\u001b[38;5;124;43m\"\u001b[39;49m\u001b[43m,\u001b[49m\u001b[43m \u001b[49m\u001b[43mto_process\u001b[49m\u001b[43m)\u001b[49m\n\u001b[0;32m    103\u001b[0m feature_dict[\u001b[38;5;124m\"\u001b[39m\u001b[38;5;124mdetail_graphs\u001b[39m\u001b[38;5;124m\"\u001b[39m] \u001b[38;5;241m=\u001b[39m \u001b[38;5;28mlist\u001b[39m()\n\u001b[0;32m    104\u001b[0m \u001b[38;5;28;01mfor\u001b[39;00m num_bins \u001b[38;5;129;01min\u001b[39;00m [\u001b[38;5;241m0\u001b[39m, \u001b[38;5;241m5\u001b[39m, \u001b[38;5;241m15\u001b[39m, \u001b[38;5;241m30\u001b[39m]:\n",
      "File \u001b[1;32mc:\\Users\\saink\\py_purpose\\EDA\\.venv\\Lib\\site-packages\\sweetviz\\graph_numeric.py:71\u001b[0m, in \u001b[0;36mGraphNumeric.__init__\u001b[1;34m(self, which_graph, to_process)\u001b[0m\n\u001b[0;32m     67\u001b[0m     normalizing_weights \u001b[38;5;241m=\u001b[39m norm_source\n\u001b[0;32m     69\u001b[0m gap_percent \u001b[38;5;241m=\u001b[39m config[\u001b[38;5;124m\"\u001b[39m\u001b[38;5;124mGraphs\u001b[39m\u001b[38;5;124m\"\u001b[39m]\u001b[38;5;241m.\u001b[39mgetfloat(\u001b[38;5;124m\"\u001b[39m\u001b[38;5;124msummary_graph_categorical_gap\u001b[39m\u001b[38;5;124m\"\u001b[39m)\n\u001b[1;32m---> 71\u001b[0m warnings\u001b[38;5;241m.\u001b[39mfilterwarnings(\u001b[38;5;124m'\u001b[39m\u001b[38;5;124mignore\u001b[39m\u001b[38;5;124m'\u001b[39m, category\u001b[38;5;241m=\u001b[39m\u001b[43mnp\u001b[49m\u001b[38;5;241;43m.\u001b[39;49m\u001b[43mVisibleDeprecationWarning\u001b[49m)\n\u001b[0;32m     72\u001b[0m \u001b[38;5;28mself\u001b[39m\u001b[38;5;241m.\u001b[39mhist_specs \u001b[38;5;241m=\u001b[39m axs\u001b[38;5;241m.\u001b[39mhist(plot_data, weights \u001b[38;5;241m=\u001b[39m normalizing_weights, bins\u001b[38;5;241m=\u001b[39m\u001b[38;5;28mself\u001b[39m\u001b[38;5;241m.\u001b[39mnum_bins, \\\n\u001b[0;32m     73\u001b[0m                            rwidth \u001b[38;5;241m=\u001b[39m (\u001b[38;5;241m100.0\u001b[39m \u001b[38;5;241m-\u001b[39m gap_percent) \u001b[38;5;241m/\u001b[39m \u001b[38;5;241m100.0\u001b[39m)\n\u001b[0;32m     74\u001b[0m warnings\u001b[38;5;241m.\u001b[39mfilterwarnings(\u001b[38;5;124m'\u001b[39m\u001b[38;5;124monce\u001b[39m\u001b[38;5;124m'\u001b[39m, category\u001b[38;5;241m=\u001b[39mnp\u001b[38;5;241m.\u001b[39mVisibleDeprecationWarning)\n",
      "File \u001b[1;32mc:\\Users\\saink\\py_purpose\\EDA\\.venv\\Lib\\site-packages\\numpy\\__init__.py:428\u001b[0m, in \u001b[0;36m__getattr__\u001b[1;34m(attr)\u001b[0m\n\u001b[0;32m    425\u001b[0m     \u001b[38;5;28;01mimport\u001b[39;00m \u001b[38;5;21;01mnumpy\u001b[39;00m\u001b[38;5;21;01m.\u001b[39;00m\u001b[38;5;21;01mchar\u001b[39;00m \u001b[38;5;28;01mas\u001b[39;00m \u001b[38;5;21;01mchar\u001b[39;00m\n\u001b[0;32m    426\u001b[0m     \u001b[38;5;28;01mreturn\u001b[39;00m char\u001b[38;5;241m.\u001b[39mchararray\n\u001b[1;32m--> 428\u001b[0m \u001b[38;5;28;01mraise\u001b[39;00m \u001b[38;5;167;01mAttributeError\u001b[39;00m(\u001b[38;5;124m\"\u001b[39m\u001b[38;5;124mmodule \u001b[39m\u001b[38;5;132;01m{!r}\u001b[39;00m\u001b[38;5;124m has no attribute \u001b[39m\u001b[38;5;124m\"\u001b[39m\n\u001b[0;32m    429\u001b[0m                      \u001b[38;5;124m\"\u001b[39m\u001b[38;5;132;01m{!r}\u001b[39;00m\u001b[38;5;124m\"\u001b[39m\u001b[38;5;241m.\u001b[39mformat(\u001b[38;5;18m__name__\u001b[39m, attr))\n",
      "\u001b[1;31mAttributeError\u001b[0m: module 'numpy' has no attribute 'VisibleDeprecationWarning'"
     ]
    },
    {
     "data": {
      "image/png": "[encoded data removed]",
      "text/plain": [
       "<Figure size 290x120 with 1 Axes>"
      ]
     },
     "metadata": {},
     "output_type": "display_data"
    }
   ],
   "source": [
    "report = sv.analyze(annotated)\n",
    "report.show_html(\"sweetviz_report/annotated.html\")"
   ]
  },
  {
   "cell_type": "code",
   "execution_count": 10,
   "metadata": {},
   "outputs": [
    {
     "data": {
      "text/plain": [
       "['41598_2023_45386_MOESM1_ESM.csv',\n",
       " '41598_2023_45386_MOESM2_ESM.csv',\n",
       " '41598_2023_45386_MOESM3_ESM.csv',\n",
       " 'Annotated_data.csv',\n",
       " 'C2D2_dataset.csv',\n",
       " 'meta_Data_with_More_Varied_and_Natural_Scenarios.csv',\n",
       " 'Therapist_responses.csv',\n",
       " 'translated_cognitive_distortion_data.csv']"
      ]
     },
     "execution_count": 10,
     "metadata": {},
     "output_type": "execute_result"
    }
   ],
   "source": [
    "# CSV 파일이 있는 폴더 경로를 지정\n",
    "folder_path = 'raw_data'\n",
    "\n",
    "# 해당 폴더 내의 모든 csv 파일 목록 가져오기\n",
    "csv_files = [f for f in os.listdir(folder_path) if f.endswith('.csv')]\n",
    "csv_files"
   ]
  },
  {
   "cell_type": "code",
   "execution_count": 3,
   "metadata": {},
   "outputs": [
    {
     "name": "stdout",
     "output_type": "stream",
     "text": [
      "41598_2023_45386_MOESM1_ESM.csv\n"
     ]
    },
    {
     "data": {
      "text/html": [
       "<div>\n",
       "<style scoped>\n",
       "    .dataframe tbody tr th:only-of-type {\n",
       "        vertical-align: middle;\n",
       "    }\n",
       "\n",
       "    .dataframe tbody tr th {\n",
       "        vertical-align: top;\n",
       "    }\n",
       "\n",
       "    .dataframe thead th {\n",
       "        text-align: right;\n",
       "    }\n",
       "</style>\n",
       "<table border=\"1\" class=\"dataframe\">\n",
       "  <thead>\n",
       "    <tr style=\"text-align: right;\">\n",
       "      <th></th>\n",
       "      <th>conv_id</th>\n",
       "      <th>emotion</th>\n",
       "      <th>kor_emotion</th>\n",
       "      <th>context</th>\n",
       "      <th>kor_context</th>\n",
       "      <th>factor</th>\n",
       "    </tr>\n",
       "  </thead>\n",
       "  <tbody>\n",
       "    <tr>\n",
       "      <th>0</th>\n",
       "      <td>hit:2_conv:4</td>\n",
       "      <td>trusting</td>\n",
       "      <td>신뢰하는</td>\n",
       "      <td>I have always been loyal to my wife.</td>\n",
       "      <td>나는 항상 아내에게 충성했다</td>\n",
       "      <td>아내에게</td>\n",
       "    </tr>\n",
       "    <tr>\n",
       "      <th>1</th>\n",
       "      <td>hit:8_conv:16</td>\n",
       "      <td>prepared</td>\n",
       "      <td>준비된</td>\n",
       "      <td>I had my entire house boarded up when the hurr...</td>\n",
       "      <td>허리케인이 왔을 때 나는 집 전체를 판자로 막았다.</td>\n",
       "      <td>허리케인이###집 전체를 판자로 막았다.</td>\n",
       "    </tr>\n",
       "    <tr>\n",
       "      <th>2</th>\n",
       "      <td>hit:13_conv:26</td>\n",
       "      <td>lonely</td>\n",
       "      <td>외로운</td>\n",
       "      <td>A few years ago, my marriage broke up, and I f...</td>\n",
       "      <td>몇 년 전 결혼이 깨졌고, 나는 인생에서 처음으로 혼자 사는 것을 발견했다. 결국 ...</td>\n",
       "      <td>인생에서 처음으로 혼자 사는 것을</td>\n",
       "    </tr>\n",
       "    <tr>\n",
       "      <th>3</th>\n",
       "      <td>hit:16_conv:33</td>\n",
       "      <td>sentimental</td>\n",
       "      <td>감상적인</td>\n",
       "      <td>I get wistful remembering my high school days.</td>\n",
       "      <td>학창시절이 생각나면 그리워집니다.</td>\n",
       "      <td>학창시절이</td>\n",
       "    </tr>\n",
       "    <tr>\n",
       "      <th>4</th>\n",
       "      <td>hit:17_conv:35</td>\n",
       "      <td>angry</td>\n",
       "      <td>화난</td>\n",
       "      <td>I get irritated with a coworker that gets on m...</td>\n",
       "      <td>맨날 신경쓰이는 직장동료가 와서 담배냄새 맡으면서 귀찮게 하고 잡담 하려고 하면 짜...</td>\n",
       "      <td>직장동료가 와서 담배냄새 맡으면서 귀찮게 하고 잡담 하려고 하면</td>\n",
       "    </tr>\n",
       "  </tbody>\n",
       "</table>\n",
       "</div>"
      ],
      "text/plain": [
       "          conv_id      emotion kor_emotion  \\\n",
       "0    hit:2_conv:4     trusting        신뢰하는   \n",
       "1   hit:8_conv:16     prepared         준비된   \n",
       "2  hit:13_conv:26       lonely         외로운   \n",
       "3  hit:16_conv:33  sentimental        감상적인   \n",
       "4  hit:17_conv:35        angry          화난   \n",
       "\n",
       "                                             context  \\\n",
       "0               I have always been loyal to my wife.   \n",
       "1  I had my entire house boarded up when the hurr...   \n",
       "2  A few years ago, my marriage broke up, and I f...   \n",
       "3     I get wistful remembering my high school days.   \n",
       "4  I get irritated with a coworker that gets on m...   \n",
       "\n",
       "                                         kor_context  \\\n",
       "0                                    나는 항상 아내에게 충성했다   \n",
       "1                       허리케인이 왔을 때 나는 집 전체를 판자로 막았다.   \n",
       "2  몇 년 전 결혼이 깨졌고, 나는 인생에서 처음으로 혼자 사는 것을 발견했다. 결국 ...   \n",
       "3                                 학창시절이 생각나면 그리워집니다.   \n",
       "4  맨날 신경쓰이는 직장동료가 와서 담배냄새 맡으면서 귀찮게 하고 잡담 하려고 하면 짜...   \n",
       "\n",
       "                                factor  \n",
       "0                                 아내에게  \n",
       "1               허리케인이###집 전체를 판자로 막았다.  \n",
       "2                   인생에서 처음으로 혼자 사는 것을  \n",
       "3                                학창시절이  \n",
       "4  직장동료가 와서 담배냄새 맡으면서 귀찮게 하고 잡담 하려고 하면  "
      ]
     },
     "execution_count": 3,
     "metadata": {},
     "output_type": "execute_result"
    }
   ],
   "source": [
    "file = csv_files[0]\n",
    "file_path = os.path.join(folder_path, file)\n",
    "df1 = pd.read_csv(file_path)\n",
    "print(file)\n",
    "df1.head()"
   ]
  },
  {
   "cell_type": "code",
   "execution_count": 4,
   "metadata": {},
   "outputs": [
    {
     "name": "stdout",
     "output_type": "stream",
     "text": [
      "41598_2023_45386_MOESM2_ESM.csv\n"
     ]
    },
    {
     "data": {
      "text/html": [
       "<div>\n",
       "<style scoped>\n",
       "    .dataframe tbody tr th:only-of-type {\n",
       "        vertical-align: middle;\n",
       "    }\n",
       "\n",
       "    .dataframe tbody tr th {\n",
       "        vertical-align: top;\n",
       "    }\n",
       "\n",
       "    .dataframe thead th {\n",
       "        text-align: right;\n",
       "    }\n",
       "</style>\n",
       "<table border=\"1\" class=\"dataframe\">\n",
       "  <thead>\n",
       "    <tr style=\"text-align: right;\">\n",
       "      <th></th>\n",
       "      <th>conv_id</th>\n",
       "      <th>emotion</th>\n",
       "      <th>kor_emotion</th>\n",
       "      <th>context</th>\n",
       "      <th>kor_context</th>\n",
       "      <th>factor</th>\n",
       "    </tr>\n",
       "  </thead>\n",
       "  <tbody>\n",
       "    <tr>\n",
       "      <th>0</th>\n",
       "      <td>hit:3_conv:7</td>\n",
       "      <td>joyful</td>\n",
       "      <td>즐거운</td>\n",
       "      <td>I am very happy to have been first over 300 st...</td>\n",
       "      <td>공과대학에서 올해 300명이 넘는 학생들이 처음으로 입학하게 되어 매우 기쁩니다.</td>\n",
       "      <td>올해 300명이 넘는 학생들이 처음으로 입학하게 되어</td>\n",
       "    </tr>\n",
       "    <tr>\n",
       "      <th>1</th>\n",
       "      <td>hit:30_conv:60</td>\n",
       "      <td>anticipating</td>\n",
       "      <td>기대하는</td>\n",
       "      <td>We were getting ready to move back to our home...</td>\n",
       "      <td>우리는 9년 만에 고향으로 돌아갈 준비를 하고 있었습니다. 나는 가족과 친구들과 가...</td>\n",
       "      <td>9년 만에 고향으로 돌아갈 준비를</td>\n",
       "    </tr>\n",
       "    <tr>\n",
       "      <th>2</th>\n",
       "      <td>hit:31_conv:63</td>\n",
       "      <td>sentimental</td>\n",
       "      <td>감상적인</td>\n",
       "      <td>When my partner went out of her way to make my...</td>\n",
       "      <td>내 파트너가 내 하루를 더 좋게 만들기 위해 나섰을 때. 선물로.</td>\n",
       "      <td>내 파트너가 내 하루를 더 좋게 만들기 위해 나섰을 때.</td>\n",
       "    </tr>\n",
       "    <tr>\n",
       "      <th>3</th>\n",
       "      <td>hit:32_conv:65</td>\n",
       "      <td>proud</td>\n",
       "      <td>자랑스러운</td>\n",
       "      <td>Finally got some yard work done , Love the sme...</td>\n",
       "      <td>마침내 정원 일을 마쳤습니다. 신선한 잔디의 냄새를 좋아하십시오.</td>\n",
       "      <td>정원 일을 마쳤습니다.</td>\n",
       "    </tr>\n",
       "    <tr>\n",
       "      <th>4</th>\n",
       "      <td>hit:43_conv:86</td>\n",
       "      <td>prepared</td>\n",
       "      <td>준비된</td>\n",
       "      <td>I remember getting prepared for my trip to per...</td>\n",
       "      <td>나는 페루 여행을 준비했던 기억이 난다. 정말 미쳤어!</td>\n",
       "      <td>페루 여행을</td>\n",
       "    </tr>\n",
       "  </tbody>\n",
       "</table>\n",
       "</div>"
      ],
      "text/plain": [
       "          conv_id       emotion kor_emotion  \\\n",
       "0    hit:3_conv:7        joyful         즐거운   \n",
       "1  hit:30_conv:60  anticipating        기대하는   \n",
       "2  hit:31_conv:63   sentimental        감상적인   \n",
       "3  hit:32_conv:65         proud       자랑스러운   \n",
       "4  hit:43_conv:86      prepared         준비된   \n",
       "\n",
       "                                             context  \\\n",
       "0  I am very happy to have been first over 300 st...   \n",
       "1  We were getting ready to move back to our home...   \n",
       "2  When my partner went out of her way to make my...   \n",
       "3  Finally got some yard work done , Love the sme...   \n",
       "4  I remember getting prepared for my trip to per...   \n",
       "\n",
       "                                         kor_context  \\\n",
       "0      공과대학에서 올해 300명이 넘는 학생들이 처음으로 입학하게 되어 매우 기쁩니다.   \n",
       "1  우리는 9년 만에 고향으로 돌아갈 준비를 하고 있었습니다. 나는 가족과 친구들과 가...   \n",
       "2               내 파트너가 내 하루를 더 좋게 만들기 위해 나섰을 때. 선물로.   \n",
       "3               마침내 정원 일을 마쳤습니다. 신선한 잔디의 냄새를 좋아하십시오.   \n",
       "4                     나는 페루 여행을 준비했던 기억이 난다. 정말 미쳤어!   \n",
       "\n",
       "                            factor  \n",
       "0    올해 300명이 넘는 학생들이 처음으로 입학하게 되어  \n",
       "1               9년 만에 고향으로 돌아갈 준비를  \n",
       "2  내 파트너가 내 하루를 더 좋게 만들기 위해 나섰을 때.  \n",
       "3                     정원 일을 마쳤습니다.  \n",
       "4                           페루 여행을  "
      ]
     },
     "execution_count": 4,
     "metadata": {},
     "output_type": "execute_result"
    }
   ],
   "source": [
    "file = csv_files[1]\n",
    "file_path = os.path.join(folder_path, file)\n",
    "df2 = pd.read_csv(file_path)\n",
    "print(file)\n",
    "df2.head()"
   ]
  },
  {
   "cell_type": "code",
   "execution_count": 5,
   "metadata": {},
   "outputs": [
    {
     "name": "stdout",
     "output_type": "stream",
     "text": [
      "41598_2023_45386_MOESM3_ESM.csv\n"
     ]
    },
    {
     "data": {
      "text/html": [
       "<div>\n",
       "<style scoped>\n",
       "    .dataframe tbody tr th:only-of-type {\n",
       "        vertical-align: middle;\n",
       "    }\n",
       "\n",
       "    .dataframe tbody tr th {\n",
       "        vertical-align: top;\n",
       "    }\n",
       "\n",
       "    .dataframe thead th {\n",
       "        text-align: right;\n",
       "    }\n",
       "</style>\n",
       "<table border=\"1\" class=\"dataframe\">\n",
       "  <thead>\n",
       "    <tr style=\"text-align: right;\">\n",
       "      <th></th>\n",
       "      <th>conv_id</th>\n",
       "      <th>emotion</th>\n",
       "      <th>kor_emotion</th>\n",
       "      <th>context</th>\n",
       "      <th>kor_context</th>\n",
       "      <th>factor</th>\n",
       "    </tr>\n",
       "  </thead>\n",
       "  <tbody>\n",
       "    <tr>\n",
       "      <th>0</th>\n",
       "      <td>hit:0_conv:1</td>\n",
       "      <td>sentimental</td>\n",
       "      <td>감상적인</td>\n",
       "      <td>I remember going to the fireworks with my best...</td>\n",
       "      <td>가장 친한 친구와 불꽃놀이에 갔던 기억이 난다. 많은 사람들이 있었지만 세상에서 우...</td>\n",
       "      <td>불꽃놀이에 갔던 기억이</td>\n",
       "    </tr>\n",
       "    <tr>\n",
       "      <th>1</th>\n",
       "      <td>hit:1_conv:2</td>\n",
       "      <td>afraid</td>\n",
       "      <td>두려워하는</td>\n",
       "      <td>i used to scare for darkness</td>\n",
       "      <td>나는 어둠을 두려워하곤 했다</td>\n",
       "      <td>어둠을</td>\n",
       "    </tr>\n",
       "    <tr>\n",
       "      <th>2</th>\n",
       "      <td>hit:1_conv:3</td>\n",
       "      <td>proud</td>\n",
       "      <td>자랑스러운</td>\n",
       "      <td>I showed a guy how to run a good bead in weldi...</td>\n",
       "      <td>나는 용접 수업에서 한 남자에게 좋은 비드를 구사하는 방법을 보여주었고 그는 빠르게...</td>\n",
       "      <td>좋은 비드를 구사하는 방법을 보여주었고 그는 빠르게 따라했습니다.</td>\n",
       "    </tr>\n",
       "    <tr>\n",
       "      <th>3</th>\n",
       "      <td>hit:2_conv:5</td>\n",
       "      <td>afraid</td>\n",
       "      <td>두려워하는</td>\n",
       "      <td>A recent job interview that I had made me feel...</td>\n",
       "      <td>제가 최근에 했던 면접은 제가 준비가 안 된 것 같아서 많이 불안했습니다.</td>\n",
       "      <td>면접은 제가 준비가 안 된 것 같아서</td>\n",
       "    </tr>\n",
       "    <tr>\n",
       "      <th>4</th>\n",
       "      <td>hit:4_conv:8</td>\n",
       "      <td>angry</td>\n",
       "      <td>화난</td>\n",
       "      <td>I once lost my job and got mad.</td>\n",
       "      <td>나는 한때 일자리를 잃고 화가 났다</td>\n",
       "      <td>일자리를 잃고</td>\n",
       "    </tr>\n",
       "  </tbody>\n",
       "</table>\n",
       "</div>"
      ],
      "text/plain": [
       "        conv_id      emotion kor_emotion  \\\n",
       "0  hit:0_conv:1  sentimental        감상적인   \n",
       "1  hit:1_conv:2       afraid       두려워하는   \n",
       "2  hit:1_conv:3        proud       자랑스러운   \n",
       "3  hit:2_conv:5       afraid       두려워하는   \n",
       "4  hit:4_conv:8        angry          화난   \n",
       "\n",
       "                                             context  \\\n",
       "0  I remember going to the fireworks with my best...   \n",
       "1                       i used to scare for darkness   \n",
       "2  I showed a guy how to run a good bead in weldi...   \n",
       "3  A recent job interview that I had made me feel...   \n",
       "4                    I once lost my job and got mad.   \n",
       "\n",
       "                                         kor_context  \\\n",
       "0  가장 친한 친구와 불꽃놀이에 갔던 기억이 난다. 많은 사람들이 있었지만 세상에서 우...   \n",
       "1                                    나는 어둠을 두려워하곤 했다   \n",
       "2  나는 용접 수업에서 한 남자에게 좋은 비드를 구사하는 방법을 보여주었고 그는 빠르게...   \n",
       "3          제가 최근에 했던 면접은 제가 준비가 안 된 것 같아서 많이 불안했습니다.   \n",
       "4                                나는 한때 일자리를 잃고 화가 났다   \n",
       "\n",
       "                                 factor  \n",
       "0                          불꽃놀이에 갔던 기억이  \n",
       "1                                   어둠을  \n",
       "2  좋은 비드를 구사하는 방법을 보여주었고 그는 빠르게 따라했습니다.  \n",
       "3                  면접은 제가 준비가 안 된 것 같아서  \n",
       "4                               일자리를 잃고  "
      ]
     },
     "execution_count": 5,
     "metadata": {},
     "output_type": "execute_result"
    }
   ],
   "source": [
    "file = csv_files[2]\n",
    "file_path = os.path.join(folder_path, file)\n",
    "df3 = pd.read_csv(file_path)\n",
    "print(file)\n",
    "df3.head()"
   ]
  },
  {
   "cell_type": "code",
   "execution_count": 6,
   "metadata": {},
   "outputs": [
    {
     "name": "stdout",
     "output_type": "stream",
     "text": [
      "Annotated_data.csv\n"
     ]
    },
    {
     "data": {
      "text/html": [
       "<div>\n",
       "<style scoped>\n",
       "    .dataframe tbody tr th:only-of-type {\n",
       "        vertical-align: middle;\n",
       "    }\n",
       "\n",
       "    .dataframe tbody tr th {\n",
       "        vertical-align: top;\n",
       "    }\n",
       "\n",
       "    .dataframe thead th {\n",
       "        text-align: right;\n",
       "    }\n",
       "</style>\n",
       "<table border=\"1\" class=\"dataframe\">\n",
       "  <thead>\n",
       "    <tr style=\"text-align: right;\">\n",
       "      <th></th>\n",
       "      <th>Id_Number</th>\n",
       "      <th>Patient Question</th>\n",
       "      <th>Distorted part</th>\n",
       "      <th>Dominant Distortion</th>\n",
       "      <th>Secondary Distortion (Optional)</th>\n",
       "    </tr>\n",
       "  </thead>\n",
       "  <tbody>\n",
       "    <tr>\n",
       "      <th>0</th>\n",
       "      <td>4500</td>\n",
       "      <td>Hello, I have a beautiful,smart,outgoing and a...</td>\n",
       "      <td>The voice are always fimilar (someone she know...</td>\n",
       "      <td>Personalization</td>\n",
       "      <td>NaN</td>\n",
       "    </tr>\n",
       "    <tr>\n",
       "      <th>1</th>\n",
       "      <td>4501</td>\n",
       "      <td>Since I was about 16 years old I’ve had these ...</td>\n",
       "      <td>I feel trapped inside my disgusting self and l...</td>\n",
       "      <td>Labeling</td>\n",
       "      <td>Emotional Reasoning</td>\n",
       "    </tr>\n",
       "    <tr>\n",
       "      <th>2</th>\n",
       "      <td>4502</td>\n",
       "      <td>So I’ve been dating on and off this guy for a...</td>\n",
       "      <td>NaN</td>\n",
       "      <td>No Distortion</td>\n",
       "      <td>NaN</td>\n",
       "    </tr>\n",
       "    <tr>\n",
       "      <th>3</th>\n",
       "      <td>4503</td>\n",
       "      <td>My parents got divorced in 2004. My mother has...</td>\n",
       "      <td>NaN</td>\n",
       "      <td>No Distortion</td>\n",
       "      <td>NaN</td>\n",
       "    </tr>\n",
       "    <tr>\n",
       "      <th>4</th>\n",
       "      <td>4504</td>\n",
       "      <td>I don’t really know how to explain the situati...</td>\n",
       "      <td>I refused to go because I didn’t know if it wa...</td>\n",
       "      <td>Fortune-telling</td>\n",
       "      <td>Emotional Reasoning</td>\n",
       "    </tr>\n",
       "  </tbody>\n",
       "</table>\n",
       "</div>"
      ],
      "text/plain": [
       "   Id_Number                                   Patient Question  \\\n",
       "0       4500  Hello, I have a beautiful,smart,outgoing and a...   \n",
       "1       4501  Since I was about 16 years old I’ve had these ...   \n",
       "2       4502   So I’ve been dating on and off this guy for a...   \n",
       "3       4503  My parents got divorced in 2004. My mother has...   \n",
       "4       4504  I don’t really know how to explain the situati...   \n",
       "\n",
       "                                      Distorted part Dominant Distortion  \\\n",
       "0  The voice are always fimilar (someone she know...     Personalization   \n",
       "1  I feel trapped inside my disgusting self and l...            Labeling   \n",
       "2                                                NaN       No Distortion   \n",
       "3                                                NaN       No Distortion   \n",
       "4  I refused to go because I didn’t know if it wa...     Fortune-telling   \n",
       "\n",
       "  Secondary Distortion (Optional)  \n",
       "0                             NaN  \n",
       "1             Emotional Reasoning  \n",
       "2                             NaN  \n",
       "3                             NaN  \n",
       "4             Emotional Reasoning  "
      ]
     },
     "execution_count": 6,
     "metadata": {},
     "output_type": "execute_result"
    }
   ],
   "source": [
    "file = csv_files[3]\n",
    "file_path = os.path.join(folder_path, file)\n",
    "df4 = pd.read_csv(file_path)\n",
    "print(file)\n",
    "df4.head()"
   ]
  },
  {
   "cell_type": "code",
   "execution_count": 7,
   "metadata": {},
   "outputs": [
    {
     "name": "stdout",
     "output_type": "stream",
     "text": [
      "C2D2_dataset.csv\n"
     ]
    },
    {
     "data": {
      "text/html": [
       "<div>\n",
       "<style scoped>\n",
       "    .dataframe tbody tr th:only-of-type {\n",
       "        vertical-align: middle;\n",
       "    }\n",
       "\n",
       "    .dataframe tbody tr th {\n",
       "        vertical-align: top;\n",
       "    }\n",
       "\n",
       "    .dataframe thead th {\n",
       "        text-align: right;\n",
       "    }\n",
       "</style>\n",
       "<table border=\"1\" class=\"dataframe\">\n",
       "  <thead>\n",
       "    <tr style=\"text-align: right;\">\n",
       "      <th></th>\n",
       "      <th>Num</th>\n",
       "      <th>场景</th>\n",
       "      <th>思维</th>\n",
       "      <th>标签</th>\n",
       "    </tr>\n",
       "  </thead>\n",
       "  <tbody>\n",
       "    <tr>\n",
       "      <th>0</th>\n",
       "      <td>1</td>\n",
       "      <td>很内向的人，你刚到了一个新环境，周围的人都比较陌生。</td>\n",
       "      <td>这个环境里的人是不是都很不友善啊</td>\n",
       "      <td>过度泛化</td>\n",
       "    </tr>\n",
       "    <tr>\n",
       "      <th>1</th>\n",
       "      <td>2</td>\n",
       "      <td>最近你感觉有时候站起来就头晕，感觉头重脚轻那种</td>\n",
       "      <td>头好晕，是不是生病了，得去医院看看了</td>\n",
       "      <td>非扭曲</td>\n",
       "    </tr>\n",
       "    <tr>\n",
       "      <th>2</th>\n",
       "      <td>3</td>\n",
       "      <td>走在路上你感觉饿了，但周围一家饭店都没有</td>\n",
       "      <td>累了没地方休息，饿了没地方吃饭，怎么不幸的事情总是发生在我的身上呢</td>\n",
       "      <td>过度泛化</td>\n",
       "    </tr>\n",
       "    <tr>\n",
       "      <th>3</th>\n",
       "      <td>4</td>\n",
       "      <td>工作最近比较忙，你却得了感冒。</td>\n",
       "      <td>哎怎在这个时候感冒了，运气好差，工作都要做不完了身体还不舒服，好想哭。</td>\n",
       "      <td>非扭曲</td>\n",
       "    </tr>\n",
       "    <tr>\n",
       "      <th>4</th>\n",
       "      <td>5</td>\n",
       "      <td>妈妈和我讨论未来计划，妈妈和我提了很多规划，表示了她对现状的担忧，但有些规划我不太认可。</td>\n",
       "      <td>妈妈又对我的人生指手画脚，就想让我过她规划的人生，这样过还不如让我去死。</td>\n",
       "      <td>算命</td>\n",
       "    </tr>\n",
       "  </tbody>\n",
       "</table>\n",
       "</div>"
      ],
      "text/plain": [
       "   Num                                            场景  \\\n",
       "0    1                    很内向的人，你刚到了一个新环境，周围的人都比较陌生。   \n",
       "1    2                       最近你感觉有时候站起来就头晕，感觉头重脚轻那种   \n",
       "2    3                          走在路上你感觉饿了，但周围一家饭店都没有   \n",
       "3    4                               工作最近比较忙，你却得了感冒。   \n",
       "4    5  妈妈和我讨论未来计划，妈妈和我提了很多规划，表示了她对现状的担忧，但有些规划我不太认可。   \n",
       "\n",
       "                                     思维    标签  \n",
       "0                      这个环境里的人是不是都很不友善啊  过度泛化  \n",
       "1                    头好晕，是不是生病了，得去医院看看了   非扭曲  \n",
       "2     累了没地方休息，饿了没地方吃饭，怎么不幸的事情总是发生在我的身上呢  过度泛化  \n",
       "3   哎怎在这个时候感冒了，运气好差，工作都要做不完了身体还不舒服，好想哭。   非扭曲  \n",
       "4  妈妈又对我的人生指手画脚，就想让我过她规划的人生，这样过还不如让我去死。    算命  "
      ]
     },
     "execution_count": 7,
     "metadata": {},
     "output_type": "execute_result"
    }
   ],
   "source": [
    "file = csv_files[4]\n",
    "file_path = os.path.join(folder_path, file)\n",
    "df5 = pd.read_csv(file_path, encoding='GB2312')\n",
    "print(file)\n",
    "df5.head()"
   ]
  },
  {
   "cell_type": "code",
   "execution_count": 11,
   "metadata": {},
   "outputs": [
    {
     "name": "stdout",
     "output_type": "stream",
     "text": [
      "translated_cognitive_distortion_data.csv\n"
     ]
    },
    {
     "data": {
      "text/html": [
       "<div>\n",
       "<style scoped>\n",
       "    .dataframe tbody tr th:only-of-type {\n",
       "        vertical-align: middle;\n",
       "    }\n",
       "\n",
       "    .dataframe tbody tr th {\n",
       "        vertical-align: top;\n",
       "    }\n",
       "\n",
       "    .dataframe thead th {\n",
       "        text-align: right;\n",
       "    }\n",
       "</style>\n",
       "<table border=\"1\" class=\"dataframe\">\n",
       "  <thead>\n",
       "    <tr style=\"text-align: right;\">\n",
       "      <th></th>\n",
       "      <th>Num</th>\n",
       "      <th>Scenario</th>\n",
       "      <th>Thoughts</th>\n",
       "      <th>Label</th>\n",
       "    </tr>\n",
       "  </thead>\n",
       "  <tbody>\n",
       "    <tr>\n",
       "      <th>0</th>\n",
       "      <td>1</td>\n",
       "      <td>很内向的人，你刚到了一个新环境，周围的人都比较陌生。</td>\n",
       "      <td>这个环境里的人是不是都很不友善啊</td>\n",
       "      <td>过度泛化</td>\n",
       "    </tr>\n",
       "    <tr>\n",
       "      <th>1</th>\n",
       "      <td>2</td>\n",
       "      <td>最近你感觉有时候站起来就头晕，感觉头重脚轻那种</td>\n",
       "      <td>头好晕，是不是生病了，得去医院看看了</td>\n",
       "      <td>非扭曲</td>\n",
       "    </tr>\n",
       "    <tr>\n",
       "      <th>2</th>\n",
       "      <td>3</td>\n",
       "      <td>走在路上你感觉饿了，但周围一家饭店都没有</td>\n",
       "      <td>累了没地方休息，饿了没地方吃饭，怎么不幸的事情总是发生在我的身上呢</td>\n",
       "      <td>过度泛化</td>\n",
       "    </tr>\n",
       "    <tr>\n",
       "      <th>3</th>\n",
       "      <td>4</td>\n",
       "      <td>工作最近比较忙，你却得了感冒。</td>\n",
       "      <td>哎怎在这个时候感冒了，运气好差，工作都要做不完了身体还不舒服，好想哭。</td>\n",
       "      <td>非扭曲</td>\n",
       "    </tr>\n",
       "    <tr>\n",
       "      <th>4</th>\n",
       "      <td>5</td>\n",
       "      <td>妈妈和我讨论未来计划，妈妈和我提了很多规划，表示了她对现状的担忧，但有些规划我不太认可。</td>\n",
       "      <td>妈妈又对我的人生指手画脚，就想让我过她规划的人生，这样过还不如让我去死。</td>\n",
       "      <td>算命</td>\n",
       "    </tr>\n",
       "  </tbody>\n",
       "</table>\n",
       "</div>"
      ],
      "text/plain": [
       "   Num                                      Scenario  \\\n",
       "0    1                    很内向的人，你刚到了一个新环境，周围的人都比较陌生。   \n",
       "1    2                       最近你感觉有时候站起来就头晕，感觉头重脚轻那种   \n",
       "2    3                          走在路上你感觉饿了，但周围一家饭店都没有   \n",
       "3    4                               工作最近比较忙，你却得了感冒。   \n",
       "4    5  妈妈和我讨论未来计划，妈妈和我提了很多规划，表示了她对现状的担忧，但有些规划我不太认可。   \n",
       "\n",
       "                               Thoughts Label  \n",
       "0                      这个环境里的人是不是都很不友善啊  过度泛化  \n",
       "1                    头好晕，是不是生病了，得去医院看看了   非扭曲  \n",
       "2     累了没地方休息，饿了没地方吃饭，怎么不幸的事情总是发生在我的身上呢  过度泛化  \n",
       "3   哎怎在这个时候感冒了，运气好差，工作都要做不完了身体还不舒服，好想哭。   非扭曲  \n",
       "4  妈妈又对我的人生指手画脚，就想让我过她规划的人生，这样过还不如让我去死。    算命  "
      ]
     },
     "execution_count": 11,
     "metadata": {},
     "output_type": "execute_result"
    }
   ],
   "source": [
    "file = csv_files[7]\n",
    "file_path = os.path.join(folder_path, file)\n",
    "df6 = pd.read_csv(file_path)\n",
    "print(file)\n",
    "df6.head()"
   ]
  },
  {
   "cell_type": "markdown",
   "metadata": {},
   "source": [
    "# EDA"
   ]
  },
  {
   "cell_type": "code",
   "execution_count": 14,
   "metadata": {},
   "outputs": [
    {
     "data": {
      "text/plain": [
       "Secondary Distortion (Optional)\n",
       "Fortune-telling            67\n",
       "Mind Reading               56\n",
       "Magnification              50\n",
       "Personalization            49\n",
       "Labeling                   38\n",
       "Overgeneralization         38\n",
       "Emotional Reasoning        35\n",
       "Mental filter              29\n",
       "Should statements          28\n",
       "All-or-nothing thinking    26\n",
       "Name: count, dtype: int64"
      ]
     },
     "execution_count": 14,
     "metadata": {},
     "output_type": "execute_result"
    }
   ],
   "source": [
    "# Patient Question\tDistorted part\tDominant Distortion\tSecondary Distortion (Optional)\n",
    "df4[\"Secondary Distortion (Optional)\"].value_counts()"
   ]
  },
  {
   "cell_type": "code",
   "execution_count": 20,
   "metadata": {},
   "outputs": [
    {
     "data": {
      "text/plain": [
       "'Since I was about 16 years old I’ve had these “spells” where it’s impossible for me to control my emotions. They come on suddenly and with absolutely no triggers whatsoever, although for hours to days before they happen I’ll sometimes have uncomfortably high levels of energy–I’ll feel either obnoxious and silly (but in a kind of desperate way, if that makes sense) or I’ll be really productive and jittery. Both of these high energy feelings are unsettling, maybe because I normally almost never have high levels of energy. The “spells,” “episodes,” whatever they are, involve extreme guilt and disgust with myself–but it’s a very visceral feeling and it’s overwhelming. I feel trapped inside my disgusting self and like I’m willing to do anything to escape it. I feel incredibly agitated and yet trapped at the same time–like I want to move or do something but I can’t. I also just feel extremely empty and sad–like, I’m filled with this overwhelming emotion but other than that I’m hollow. I feel so desperate and so unhappy and sick and like I hate myself so much–but it’s such a powerful physical feeling that it’s hard to describe with words because it’s a feeling and not a thought. I sob uncontrollably during these episodes (they usually last a few hours although they occasionally last longer) I’ve definitely been suicidal during these periods, but it’s not so much a conscious desire to kill myself than it is a need to escape how I’m feeling. I’m just afraid sometimes that since I’m not really thinking during these times that I might do something to myself–especially since I think during these times that I don’t deserve to get help or that I’m not worth disturbing people by calling them.'"
      ]
     },
     "execution_count": 20,
     "metadata": {},
     "output_type": "execute_result"
    }
   ],
   "source": [
    "df4[\"Patient Question\"][1]"
   ]
  },
  {
   "cell_type": "code",
   "execution_count": 21,
   "metadata": {},
   "outputs": [
    {
     "data": {
      "text/plain": [
       "'I feel trapped inside my disgusting self and like I’m willing to do anything to escape it.I’m just afraid sometimes that since I’m not really thinking during these times that I might do something to myself–especially since I think during these times that I don’t deserve to get help or that I’m not worth disturbing people by calling them.'"
      ]
     },
     "execution_count": 21,
     "metadata": {},
     "output_type": "execute_result"
    }
   ],
   "source": [
    "df4['Distorted part'][1]"
   ]
  }
 ],
 "metadata": {
  "kernelspec": {
   "display_name": ".venv",
   "language": "python",
   "name": "python3"
  },
  "language_info": {
   "codemirror_mode": {
    "name": "ipython",
    "version": 3
   },
   "file_extension": ".py",
   "mimetype": "text/x-python",
   "name": "python",
   "nbconvert_exporter": "python",
   "pygments_lexer": "ipython3",
   "version": "3.12.0"
  }
 },
 "nbformat": 4,
 "nbformat_minor": 2
}
