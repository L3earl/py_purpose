{
 "cells": [
  {
   "cell_type": "markdown",
   "metadata": {},
   "source": [
    "# aiffelton에서 만든 텍스트를 번역하여 퀄리티를 확인함"
   ]
  },
  {
   "cell_type": "code",
   "execution_count": 1,
   "metadata": {},
   "outputs": [],
   "source": [
    "import pandas as pd\n",
    "from googletrans import Translator"
   ]
  },
  {
   "cell_type": "code",
   "execution_count": 2,
   "metadata": {},
   "outputs": [
    {
     "name": "stdout",
     "output_type": "stream",
     "text": [
      "   Num                                           Scenario  \\\n",
      "0    1  I'm an introverted person, and I've just arriv...   \n",
      "1    2  Recently, I feel dizzy sometimes when I stand ...   \n",
      "2    3  I'm walking down the street and feel hungry, b...   \n",
      "3    4  Work has been busy lately, but I have caught a...   \n",
      "4    5  My mom and I are discussing future plans. She ...   \n",
      "\n",
      "                                             Thought               Label  \\\n",
      "0     Are the people in this environment unfriendly?  Overgeneralization   \n",
      "1  I'm so dizzy. Am I sick? I should probably go ...       No Distortion   \n",
      "2  I'm tired and there's no place to rest, I'm hu...  Overgeneralization   \n",
      "3  Why did I catch a cold at this time? I feel so...       No Distortion   \n",
      "4  Mom is trying to control my life again, wantin...     Fortune-telling   \n",
      "\n",
      "                                     Refined_Thought  \\\n",
      "0  Sure, I can help with that. Here's a possible ...   \n",
      "1  Recently, I feel dizzy sometimes when I stand ...   \n",
      "2  I'm walking down the street and feel hungry, b...   \n",
      "3  Work has been busy lately, but I have caught a...   \n",
      "4  My mom and I are discussing future plans. She ...   \n",
      "\n",
      "                             Cleaned_Refined_Thought  \n",
      "0  I'm an introverted person, and I've just arriv...  \n",
      "1  Recently, I feel dizzy sometimes when I stand ...  \n",
      "2  I'm walking down the street and feel hungry, b...  \n",
      "3  Work has been busy lately, but I have caught a...  \n",
      "4  My mom and I are discussing future plans. She ...  \n"
     ]
    }
   ],
   "source": [
    "# 데이터 불러오기\n",
    "raw_data = pd.read_csv('raw_data/c2d2_refined_0_500_cleaned.csv')\n",
    "print(raw_data.head())"
   ]
  },
  {
   "cell_type": "code",
   "execution_count": 3,
   "metadata": {},
   "outputs": [],
   "source": [
    "# 번역기 생성\n",
    "translator = Translator()\n",
    "\n",
    "# 번역 함수\n",
    "def translate_text(text, target_language='ko'):\n",
    "    try:\n",
    "        translated = translator.translate(text, dest=target_language)\n",
    "        return translated.text\n",
    "    except Exception as e:\n",
    "        return str(e)"
   ]
  },
  {
   "cell_type": "code",
   "execution_count": 4,
   "metadata": {},
   "outputs": [
    {
     "data": {
      "text/plain": [
       "'나는 내성적 인 사람이고, 주변 사람들이 대부분 익숙하지 않은 새로운 환경에 도착했습니다.'"
      ]
     },
     "execution_count": 4,
     "metadata": {},
     "output_type": "execute_result"
    }
   ],
   "source": [
    "translate_text(raw_data['Scenario'][0])"
   ]
  },
  {
   "cell_type": "code",
   "execution_count": 17,
   "metadata": {},
   "outputs": [
    {
     "data": {
      "text/plain": [
       "\"I'm an introverted person, and I've just arrived in a new environment where the people around I are mostly unfamiliar.\""
      ]
     },
     "execution_count": 17,
     "metadata": {},
     "output_type": "execute_result"
    }
   ],
   "source": [
    "raw_data['Scenario'][0]"
   ]
  },
  {
   "cell_type": "code",
   "execution_count": 18,
   "metadata": {},
   "outputs": [
    {
     "data": {
      "text/plain": [
       "\"'NoneType' object has no attribute 'group'\""
      ]
     },
     "execution_count": 18,
     "metadata": {},
     "output_type": "execute_result"
    }
   ],
   "source": [
    "translate_text(\"I'm an introverted person, and I've just arrived in a new environment where the people around I are mostly unfamiliar.\")"
   ]
  },
  {
   "cell_type": "code",
   "execution_count": 5,
   "metadata": {},
   "outputs": [
    {
     "ename": "KeyError",
     "evalue": "'Cleaned_Refined_Thought '",
     "output_type": "error",
     "traceback": [
      "\u001b[1;31m---------------------------------------------------------------------------\u001b[0m",
      "\u001b[1;31mKeyError\u001b[0m                                  Traceback (most recent call last)",
      "File \u001b[1;32mc:\\Users\\saink\\PycharmProjects\\translate\\.venv\\Lib\\site-packages\\pandas\\core\\indexes\\base.py:3805\u001b[0m, in \u001b[0;36mIndex.get_loc\u001b[1;34m(self, key)\u001b[0m\n\u001b[0;32m   3804\u001b[0m \u001b[38;5;28;01mtry\u001b[39;00m:\n\u001b[1;32m-> 3805\u001b[0m     \u001b[38;5;28;01mreturn\u001b[39;00m \u001b[38;5;28;43mself\u001b[39;49m\u001b[38;5;241;43m.\u001b[39;49m\u001b[43m_engine\u001b[49m\u001b[38;5;241;43m.\u001b[39;49m\u001b[43mget_loc\u001b[49m\u001b[43m(\u001b[49m\u001b[43mcasted_key\u001b[49m\u001b[43m)\u001b[49m\n\u001b[0;32m   3806\u001b[0m \u001b[38;5;28;01mexcept\u001b[39;00m \u001b[38;5;167;01mKeyError\u001b[39;00m \u001b[38;5;28;01mas\u001b[39;00m err:\n",
      "File \u001b[1;32mindex.pyx:167\u001b[0m, in \u001b[0;36mpandas._libs.index.IndexEngine.get_loc\u001b[1;34m()\u001b[0m\n",
      "File \u001b[1;32mindex.pyx:196\u001b[0m, in \u001b[0;36mpandas._libs.index.IndexEngine.get_loc\u001b[1;34m()\u001b[0m\n",
      "File \u001b[1;32mpandas\\\\_libs\\\\hashtable_class_helper.pxi:7081\u001b[0m, in \u001b[0;36mpandas._libs.hashtable.PyObjectHashTable.get_item\u001b[1;34m()\u001b[0m\n",
      "File \u001b[1;32mpandas\\\\_libs\\\\hashtable_class_helper.pxi:7089\u001b[0m, in \u001b[0;36mpandas._libs.hashtable.PyObjectHashTable.get_item\u001b[1;34m()\u001b[0m\n",
      "\u001b[1;31mKeyError\u001b[0m: 'Cleaned_Refined_Thought '",
      "\nThe above exception was the direct cause of the following exception:\n",
      "\u001b[1;31mKeyError\u001b[0m                                  Traceback (most recent call last)",
      "Cell \u001b[1;32mIn[5], line 4\u001b[0m\n\u001b[0;32m      2\u001b[0m raw_data[\u001b[38;5;124m'\u001b[39m\u001b[38;5;124mtrans_Scenario\u001b[39m\u001b[38;5;124m'\u001b[39m] \u001b[38;5;241m=\u001b[39m raw_data[\u001b[38;5;124m'\u001b[39m\u001b[38;5;124mScenario\u001b[39m\u001b[38;5;124m'\u001b[39m]\u001b[38;5;241m.\u001b[39mapply(translate_text)\n\u001b[0;32m      3\u001b[0m raw_data[\u001b[38;5;124m'\u001b[39m\u001b[38;5;124mtrans_Thought\u001b[39m\u001b[38;5;124m'\u001b[39m] \u001b[38;5;241m=\u001b[39m raw_data[\u001b[38;5;124m'\u001b[39m\u001b[38;5;124mThought\u001b[39m\u001b[38;5;124m'\u001b[39m]\u001b[38;5;241m.\u001b[39mapply(translate_text)\n\u001b[1;32m----> 4\u001b[0m raw_data[\u001b[38;5;124m'\u001b[39m\u001b[38;5;124mtrans_Cleaned\u001b[39m\u001b[38;5;124m'\u001b[39m] \u001b[38;5;241m=\u001b[39m \u001b[43mraw_data\u001b[49m\u001b[43m[\u001b[49m\u001b[38;5;124;43m'\u001b[39;49m\u001b[38;5;124;43mCleaned_Refined_Thought \u001b[39;49m\u001b[38;5;124;43m'\u001b[39;49m\u001b[43m]\u001b[49m\u001b[38;5;241m.\u001b[39mapply(translate_text)\n\u001b[0;32m      6\u001b[0m \u001b[38;5;66;03m# 결과 확인\u001b[39;00m\n\u001b[0;32m      7\u001b[0m \u001b[38;5;28mprint\u001b[39m(raw_data\u001b[38;5;241m.\u001b[39mhead())\n",
      "File \u001b[1;32mc:\\Users\\saink\\PycharmProjects\\translate\\.venv\\Lib\\site-packages\\pandas\\core\\frame.py:4102\u001b[0m, in \u001b[0;36mDataFrame.__getitem__\u001b[1;34m(self, key)\u001b[0m\n\u001b[0;32m   4100\u001b[0m \u001b[38;5;28;01mif\u001b[39;00m \u001b[38;5;28mself\u001b[39m\u001b[38;5;241m.\u001b[39mcolumns\u001b[38;5;241m.\u001b[39mnlevels \u001b[38;5;241m>\u001b[39m \u001b[38;5;241m1\u001b[39m:\n\u001b[0;32m   4101\u001b[0m     \u001b[38;5;28;01mreturn\u001b[39;00m \u001b[38;5;28mself\u001b[39m\u001b[38;5;241m.\u001b[39m_getitem_multilevel(key)\n\u001b[1;32m-> 4102\u001b[0m indexer \u001b[38;5;241m=\u001b[39m \u001b[38;5;28;43mself\u001b[39;49m\u001b[38;5;241;43m.\u001b[39;49m\u001b[43mcolumns\u001b[49m\u001b[38;5;241;43m.\u001b[39;49m\u001b[43mget_loc\u001b[49m\u001b[43m(\u001b[49m\u001b[43mkey\u001b[49m\u001b[43m)\u001b[49m\n\u001b[0;32m   4103\u001b[0m \u001b[38;5;28;01mif\u001b[39;00m is_integer(indexer):\n\u001b[0;32m   4104\u001b[0m     indexer \u001b[38;5;241m=\u001b[39m [indexer]\n",
      "File \u001b[1;32mc:\\Users\\saink\\PycharmProjects\\translate\\.venv\\Lib\\site-packages\\pandas\\core\\indexes\\base.py:3812\u001b[0m, in \u001b[0;36mIndex.get_loc\u001b[1;34m(self, key)\u001b[0m\n\u001b[0;32m   3807\u001b[0m     \u001b[38;5;28;01mif\u001b[39;00m \u001b[38;5;28misinstance\u001b[39m(casted_key, \u001b[38;5;28mslice\u001b[39m) \u001b[38;5;129;01mor\u001b[39;00m (\n\u001b[0;32m   3808\u001b[0m         \u001b[38;5;28misinstance\u001b[39m(casted_key, abc\u001b[38;5;241m.\u001b[39mIterable)\n\u001b[0;32m   3809\u001b[0m         \u001b[38;5;129;01mand\u001b[39;00m \u001b[38;5;28many\u001b[39m(\u001b[38;5;28misinstance\u001b[39m(x, \u001b[38;5;28mslice\u001b[39m) \u001b[38;5;28;01mfor\u001b[39;00m x \u001b[38;5;129;01min\u001b[39;00m casted_key)\n\u001b[0;32m   3810\u001b[0m     ):\n\u001b[0;32m   3811\u001b[0m         \u001b[38;5;28;01mraise\u001b[39;00m InvalidIndexError(key)\n\u001b[1;32m-> 3812\u001b[0m     \u001b[38;5;28;01mraise\u001b[39;00m \u001b[38;5;167;01mKeyError\u001b[39;00m(key) \u001b[38;5;28;01mfrom\u001b[39;00m \u001b[38;5;21;01merr\u001b[39;00m\n\u001b[0;32m   3813\u001b[0m \u001b[38;5;28;01mexcept\u001b[39;00m \u001b[38;5;167;01mTypeError\u001b[39;00m:\n\u001b[0;32m   3814\u001b[0m     \u001b[38;5;66;03m# If we have a listlike key, _check_indexing_error will raise\u001b[39;00m\n\u001b[0;32m   3815\u001b[0m     \u001b[38;5;66;03m#  InvalidIndexError. Otherwise we fall through and re-raise\u001b[39;00m\n\u001b[0;32m   3816\u001b[0m     \u001b[38;5;66;03m#  the TypeError.\u001b[39;00m\n\u001b[0;32m   3817\u001b[0m     \u001b[38;5;28mself\u001b[39m\u001b[38;5;241m.\u001b[39m_check_indexing_error(key)\n",
      "\u001b[1;31mKeyError\u001b[0m: 'Cleaned_Refined_Thought '"
     ]
    }
   ],
   "source": [
    "# 번역 작업 수행\n",
    "raw_data['trans_Scenario'] = raw_data['Scenario'].apply(translate_text)\n",
    "raw_data['trans_Thought'] = raw_data['Thought'].apply(translate_text)\n",
    "raw_data['trans_Cleaned'] = raw_data['Cleaned_Refined_Thought'].apply(translate_text)"
   ]
  },
  {
   "cell_type": "code",
   "execution_count": 9,
   "metadata": {},
   "outputs": [
    {
     "name": "stdout",
     "output_type": "stream",
     "text": [
      "   Num                                           Scenario  \\\n",
      "0    1  I'm an introverted person, and I've just arriv...   \n",
      "1    2  Recently, I feel dizzy sometimes when I stand ...   \n",
      "2    3  I'm walking down the street and feel hungry, b...   \n",
      "3    4  Work has been busy lately, but I have caught a...   \n",
      "4    5  My mom and I are discussing future plans. She ...   \n",
      "\n",
      "                                             Thought               Label  \\\n",
      "0     Are the people in this environment unfriendly?  Overgeneralization   \n",
      "1  I'm so dizzy. Am I sick? I should probably go ...       No Distortion   \n",
      "2  I'm tired and there's no place to rest, I'm hu...  Overgeneralization   \n",
      "3  Why did I catch a cold at this time? I feel so...       No Distortion   \n",
      "4  Mom is trying to control my life again, wantin...     Fortune-telling   \n",
      "\n",
      "                                     Refined_Thought  \\\n",
      "0  Sure, I can help with that. Here's a possible ...   \n",
      "1  Recently, I feel dizzy sometimes when I stand ...   \n",
      "2  I'm walking down the street and feel hungry, b...   \n",
      "3  Work has been busy lately, but I have caught a...   \n",
      "4  My mom and I are discussing future plans. She ...   \n",
      "\n",
      "                             Cleaned_Refined_Thought  \\\n",
      "0  I'm an introverted person, and I've just arriv...   \n",
      "1  Recently, I feel dizzy sometimes when I stand ...   \n",
      "2  I'm walking down the street and feel hungry, b...   \n",
      "3  Work has been busy lately, but I have caught a...   \n",
      "4  My mom and I are discussing future plans. She ...   \n",
      "\n",
      "                                      trans_Scenario  \\\n",
      "0  나는 내성적 인 사람이고, 주변 사람들이 대부분 익숙하지 않은 새로운 환경에 도착했...   \n",
      "1                     최근에, 나는 일 어설 때 때때로 어지러움을 느낍니다.   \n",
      "2            나는 길을 걷고 배가 고프다는 느낌이 들지만 주변에는 식당이 없습니다.   \n",
      "3                             최근에 일이 바빴지만 감기에 걸렸습니다.   \n",
      "4  우리 엄마와 나는 미래의 계획에 대해 논의하고 있습니다.그녀는 많은 것들을 언급하고...   \n",
      "\n",
      "                                       trans_Thought  \\\n",
      "0                                이 환경의 사람들은 비우호적입니까?   \n",
      "1                 나는 너무 현기증.나는 아프다.아마 병원에 가야 할 것입니다.   \n",
      "2  나는 피곤하고 쉴 곳이 없다. 배가 고파서 먹을 곳이 없다.불행한 일이 항상 나에게...   \n",
      "3  지금 당시 감기에 걸린 이유는 무엇입니까?나는 너무 운이 좋지 않습니다.나는 내 일...   \n",
      "4  엄마는 내 인생을 다시 통제하려고 노력하고 있으며, 그녀가 계획 한 삶을 살기를 원...   \n",
      "\n",
      "                                       trans_Cleaned  \n",
      "0  나는 내성적 인 사람이고, 주변 사람들이 대부분 익숙하지 않은 새로운 환경에 도착했...  \n",
      "1  최근에, 나는 일 어설 때 때때로 어지러움을 느낍니다.요즘 더 자주 발생하며, 많은...  \n",
      "2  나는 길을 걷고 배가 고프다는 느낌이 들지만 주변에는 식당이 없습니다.하늘은 흐려지...  \n",
      "3  최근에 일이 바빴지만 감기에 걸렸습니다.나는 늦게 머물면서 마감일에 대해 스트레스를...  \n",
      "4  우리 엄마와 나는 미래의 계획에 대해 논의하고 있습니다.그녀는 많은 것들을 언급하고...  \n"
     ]
    }
   ],
   "source": [
    "# 결과 확인\n",
    "print(raw_data.head())"
   ]
  },
  {
   "cell_type": "code",
   "execution_count": 8,
   "metadata": {},
   "outputs": [],
   "source": [
    "raw_data.to_csv('data/c2d2_refined_0_500_translated.csv', index=False)"
   ]
  },
  {
   "cell_type": "code",
   "execution_count": null,
   "metadata": {},
   "outputs": [],
   "source": []
  },
  {
   "cell_type": "code",
   "execution_count": null,
   "metadata": {},
   "outputs": [],
   "source": []
  },
  {
   "cell_type": "code",
   "execution_count": null,
   "metadata": {},
   "outputs": [],
   "source": []
  }
 ],
 "metadata": {
  "kernelspec": {
   "display_name": ".venv",
   "language": "python",
   "name": "python3"
  },
  "language_info": {
   "codemirror_mode": {
    "name": "ipython",
    "version": 3
   },
   "file_extension": ".py",
   "mimetype": "text/x-python",
   "name": "python",
   "nbconvert_exporter": "python",
   "pygments_lexer": "ipython3",
   "version": "3.12.0"
  }
 },
 "nbformat": 4,
 "nbformat_minor": 2
}
