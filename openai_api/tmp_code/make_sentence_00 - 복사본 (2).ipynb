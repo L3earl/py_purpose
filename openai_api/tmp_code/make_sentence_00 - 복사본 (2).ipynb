{
 "cells": [
  {
   "cell_type": "markdown",
   "metadata": {},
   "source": [
    "# 아이펠톤에서 사용할 데이터 생성하는 노트북\n",
    "\n",
    "### 발생한 이슈\n",
    "- 같은 텍스트를 넣었는데, openai api에서 포함해야 하는 텍스트를 제외하는 일이 발생함 -> 문장유사도를 판단하여, 유사한 문장을 포함하지 않으면 제외하는 방식 사용\n",
    "\n",
    "### 코드 흐름\n",
    "- 데이터를 한줄씩 가져옴\n",
    "- 포함해야 하는 컬럼의 데이터를 openai api 에 넣어 문장을 생성함\n",
    "- 포함해야 하는 컬럼의 데이터를 문장별로 나눔\n",
    "- 생성된 문장 내에 '포함해야 하는 문장'들이 존재하는지 문장유사도를 사용하여 확인\n",
    "- 문장유사도 비율이 낮으면 중단하고 저장, 원인 확인"
   ]
  },
  {
   "cell_type": "code",
   "execution_count": 1,
   "metadata": {},
   "outputs": [],
   "source": [
    "import os\n",
    "# from dotenv import load_dotenv\n",
    "from openai import OpenAI\n",
    "import pandas as pd\n",
    "import nltk\n",
    "from difflib import SequenceMatcher\n",
    "import winsound\n",
    "import ftfy\n",
    "import re\n",
    "import string\n",
    "import glob\n",
    "\n",
    "# NLTK 패키지에서 Punkt tokenizer를 다운로드 (한 번만 실행)\n",
    "# nltk.download('punkt')"
   ]
   }]
}
